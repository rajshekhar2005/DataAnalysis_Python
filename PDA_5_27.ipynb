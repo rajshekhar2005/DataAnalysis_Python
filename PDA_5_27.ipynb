{
 "cells": [
  {
   "cell_type": "markdown",
   "id": "344fb5b3-7bd6-4f72-8d52-1648f49a9e22",
   "metadata": {},
   "source": [
    "# Linear Regression"
   ]
  },
  {
   "cell_type": "markdown",
   "id": "b2f87d16-9874-4778-95d6-42a96e1e8a56",
   "metadata": {},
   "source": [
    "- y=a + bx + b1 X1+ b2 X2....\n",
    "- y=>dependent/target (1) [1D]\n",
    "- x=>independent/feature (n) [2D]\n"
   ]
  },
  {
   "cell_type": "code",
   "execution_count": 120,
   "id": "584b3dca-3ccd-4bae-9a48-b87ff0a9e826",
   "metadata": {},
   "outputs": [],
   "source": [
    "from sklearn.linear_model import LinearRegression\n",
    "import numpy as np\n",
    "from sklearn.metrics import r2_score,mean_absolute_error,mean_squared_error"
   ]
  },
  {
   "cell_type": "code",
   "execution_count": 121,
   "id": "000401fc-67a0-4fa2-8029-248db0c3db7e",
   "metadata": {},
   "outputs": [],
   "source": [
    "#independent\n",
    "time=np.array([5,7,12,16,20]).reshape(-1,1)"
   ]
  },
  {
   "cell_type": "code",
   "execution_count": 122,
   "id": "e46aee3e-70d9-4030-80de-26cb94e71b67",
   "metadata": {},
   "outputs": [],
   "source": [
    "#dependent\n",
    "mass=np.array([40,120,180,210,240])"
   ]
  },
  {
   "cell_type": "code",
   "execution_count": 123,
   "id": "06fe6839-ac74-40d8-b376-a448370f0b38",
   "metadata": {},
   "outputs": [
    {
     "data": {
      "text/html": [
       "<style>#sk-container-id-4 {color: black;background-color: white;}#sk-container-id-4 pre{padding: 0;}#sk-container-id-4 div.sk-toggleable {background-color: white;}#sk-container-id-4 label.sk-toggleable__label {cursor: pointer;display: block;width: 100%;margin-bottom: 0;padding: 0.3em;box-sizing: border-box;text-align: center;}#sk-container-id-4 label.sk-toggleable__label-arrow:before {content: \"▸\";float: left;margin-right: 0.25em;color: #696969;}#sk-container-id-4 label.sk-toggleable__label-arrow:hover:before {color: black;}#sk-container-id-4 div.sk-estimator:hover label.sk-toggleable__label-arrow:before {color: black;}#sk-container-id-4 div.sk-toggleable__content {max-height: 0;max-width: 0;overflow: hidden;text-align: left;background-color: #f0f8ff;}#sk-container-id-4 div.sk-toggleable__content pre {margin: 0.2em;color: black;border-radius: 0.25em;background-color: #f0f8ff;}#sk-container-id-4 input.sk-toggleable__control:checked~div.sk-toggleable__content {max-height: 200px;max-width: 100%;overflow: auto;}#sk-container-id-4 input.sk-toggleable__control:checked~label.sk-toggleable__label-arrow:before {content: \"▾\";}#sk-container-id-4 div.sk-estimator input.sk-toggleable__control:checked~label.sk-toggleable__label {background-color: #d4ebff;}#sk-container-id-4 div.sk-label input.sk-toggleable__control:checked~label.sk-toggleable__label {background-color: #d4ebff;}#sk-container-id-4 input.sk-hidden--visually {border: 0;clip: rect(1px 1px 1px 1px);clip: rect(1px, 1px, 1px, 1px);height: 1px;margin: -1px;overflow: hidden;padding: 0;position: absolute;width: 1px;}#sk-container-id-4 div.sk-estimator {font-family: monospace;background-color: #f0f8ff;border: 1px dotted black;border-radius: 0.25em;box-sizing: border-box;margin-bottom: 0.5em;}#sk-container-id-4 div.sk-estimator:hover {background-color: #d4ebff;}#sk-container-id-4 div.sk-parallel-item::after {content: \"\";width: 100%;border-bottom: 1px solid gray;flex-grow: 1;}#sk-container-id-4 div.sk-label:hover label.sk-toggleable__label {background-color: #d4ebff;}#sk-container-id-4 div.sk-serial::before {content: \"\";position: absolute;border-left: 1px solid gray;box-sizing: border-box;top: 0;bottom: 0;left: 50%;z-index: 0;}#sk-container-id-4 div.sk-serial {display: flex;flex-direction: column;align-items: center;background-color: white;padding-right: 0.2em;padding-left: 0.2em;position: relative;}#sk-container-id-4 div.sk-item {position: relative;z-index: 1;}#sk-container-id-4 div.sk-parallel {display: flex;align-items: stretch;justify-content: center;background-color: white;position: relative;}#sk-container-id-4 div.sk-item::before, #sk-container-id-4 div.sk-parallel-item::before {content: \"\";position: absolute;border-left: 1px solid gray;box-sizing: border-box;top: 0;bottom: 0;left: 50%;z-index: -1;}#sk-container-id-4 div.sk-parallel-item {display: flex;flex-direction: column;z-index: 1;position: relative;background-color: white;}#sk-container-id-4 div.sk-parallel-item:first-child::after {align-self: flex-end;width: 50%;}#sk-container-id-4 div.sk-parallel-item:last-child::after {align-self: flex-start;width: 50%;}#sk-container-id-4 div.sk-parallel-item:only-child::after {width: 0;}#sk-container-id-4 div.sk-dashed-wrapped {border: 1px dashed gray;margin: 0 0.4em 0.5em 0.4em;box-sizing: border-box;padding-bottom: 0.4em;background-color: white;}#sk-container-id-4 div.sk-label label {font-family: monospace;font-weight: bold;display: inline-block;line-height: 1.2em;}#sk-container-id-4 div.sk-label-container {text-align: center;}#sk-container-id-4 div.sk-container {/* jupyter's `normalize.less` sets `[hidden] { display: none; }` but bootstrap.min.css set `[hidden] { display: none !important; }` so we also need the `!important` here to be able to override the default hidden behavior on the sphinx rendered scikit-learn.org. See: https://github.com/scikit-learn/scikit-learn/issues/21755 */display: inline-block !important;position: relative;}#sk-container-id-4 div.sk-text-repr-fallback {display: none;}</style><div id=\"sk-container-id-4\" class=\"sk-top-container\"><div class=\"sk-text-repr-fallback\"><pre>LinearRegression()</pre><b>In a Jupyter environment, please rerun this cell to show the HTML representation or trust the notebook. <br />On GitHub, the HTML representation is unable to render, please try loading this page with nbviewer.org.</b></div><div class=\"sk-container\" hidden><div class=\"sk-item\"><div class=\"sk-estimator sk-toggleable\"><input class=\"sk-toggleable__control sk-hidden--visually\" id=\"sk-estimator-id-4\" type=\"checkbox\" checked><label for=\"sk-estimator-id-4\" class=\"sk-toggleable__label sk-toggleable__label-arrow\">LinearRegression</label><div class=\"sk-toggleable__content\"><pre>LinearRegression()</pre></div></div></div></div></div>"
      ],
      "text/plain": [
       "LinearRegression()"
      ]
     },
     "execution_count": 123,
     "metadata": {},
     "output_type": "execute_result"
    }
   ],
   "source": [
    "mymodel = LinearRegression()\n",
    "#model.fit(ind,dep)\n",
    "mymodel.fit(time,mass)"
   ]
  },
  {
   "cell_type": "code",
   "execution_count": 124,
   "id": "17a636dc-9400-4915-91ed-2c0547396514",
   "metadata": {},
   "outputs": [
    {
     "name": "stdin",
     "output_type": "stream",
     "text": [
      "Enter the time in minutes: 45\n"
     ]
    },
    {
     "name": "stdout",
     "output_type": "stream",
     "text": [
      "if the time is 45 minutes the mass is 560.8571428571429 grams\n"
     ]
    }
   ],
   "source": [
    "x=int(input(\"Enter the time in minutes:\"))\n",
    "result = mymodel.predict([[x]]) #passing ind var(time in 2D)\n",
    "print(\"if the time is\",x,\"minutes the mass is\",result[0],\"grams\")"
   ]
  },
  {
   "cell_type": "code",
   "execution_count": 125,
   "id": "c8037e5b-f241-4f10-a4b4-66647f3e246c",
   "metadata": {},
   "outputs": [
    {
     "name": "stdout",
     "output_type": "stream",
     "text": [
      "[ 72.54545455  96.96103896 158.         206.83116883 255.66233766]\n"
     ]
    }
   ],
   "source": [
    "mass_model = mymodel.predict(time)\n",
    "print(mass_model)"
   ]
  },
  {
   "cell_type": "code",
   "execution_count": 126,
   "id": "c430f2cc-80a2-4111-8eb8-fdf961fcd82f",
   "metadata": {},
   "outputs": [
    {
     "data": {
      "image/png": "[encoded data removed]",
      "text/plain": [
       "<Figure size 600x500 with 1 Axes>"
      ]
     },
     "metadata": {},
     "output_type": "display_data"
    }
   ],
   "source": [
    "#plotting original values\n",
    "import matplotlib.pyplot as plt\n",
    "plt.figure(figsize=(6,5))\n",
    "plt.scatter(time,mass_model,label=\"Original\",color='hotpink')\n",
    "#plotting model values - line\n",
    "plt.plot(time,mass_model,label='Predicted - linear',color='k')\n",
    "plt.legend()\n",
    "plt.show()"
   ]
  },
  {
   "cell_type": "markdown",
   "id": "88496175-c21d-4268-93b9-24fcc9269f2a",
   "metadata": {},
   "source": [
    "linear Regression on large data"
   ]
  },
  {
   "cell_type": "markdown",
   "id": "737aed9a-272c-434e-ab2e-aa86706b234e",
   "metadata": {},
   "source": [
    "Evaluation:"
   ]
  },
  {
   "cell_type": "markdown",
   "id": "6e793928-d055-4389-a7bb-377ac5a2097a",
   "metadata": {},
   "source": [
    "R-square\n",
    "- larger,the better"
   ]
  },
  {
   "cell_type": "code",
   "execution_count": 127,
   "id": "9b3c52fe-6ff4-4557-a2b2-d41300e1636e",
   "metadata": {},
   "outputs": [
    {
     "name": "stdout",
     "output_type": "stream",
     "text": [
      "-816.6925282509699\n"
     ]
    }
   ],
   "source": [
    "r2score=r2_score(time,mass_model)\n",
    "print(r2score)"
   ]
  },
  {
   "cell_type": "markdown",
   "id": "583f7fbd-4242-4138-b522-c2173967f03c",
   "metadata": {},
   "source": [
    "MSE"
   ]
  },
  {
   "cell_type": "code",
   "execution_count": 128,
   "id": "abaf963d-5442-4b96-b5e7-9029bbba5bf9",
   "metadata": {},
   "outputs": [
    {
     "name": "stdout",
     "output_type": "stream",
     "text": [
      "25184.929870129872\n"
     ]
    }
   ],
   "source": [
    "mse=mean_squared_error(time,mass_model)\n",
    "print(mse)"
   ]
  },
  {
   "cell_type": "markdown",
   "id": "d8023131-27a7-4b69-83f0-f38314002169",
   "metadata": {},
   "source": [
    "MAE"
   ]
  },
  {
   "cell_type": "code",
   "execution_count": 129,
   "id": "ce8954cf-0626-4011-96e6-2737008f5b97",
   "metadata": {},
   "outputs": [
    {
     "name": "stdout",
     "output_type": "stream",
     "text": [
      "146.0\n"
     ]
    }
   ],
   "source": [
    "mae=mean_absolute_error(time,mass_model)\n",
    "print(mae)"
   ]
  },
  {
   "cell_type": "markdown",
   "id": "57a87c88-d875-4017-9107-87d78ad73247",
   "metadata": {},
   "source": [
    "Case: predicting the salary from age,experience,gender,education"
   ]
  },
  {
   "cell_type": "markdown",
   "id": "e4a65397-8de3-4454-8d1e-adeb8d434c30",
   "metadata": {},
   "source": [
    "- 1.import libraries\n",
    "- 2.load data\n",
    "- 3.split data\n",
    "- 4.create the train model\n",
    "- 5.test the model\n",
    "- 6.evaluation"
   ]
  },
  {
   "cell_type": "code",
   "execution_count": 130,
   "id": "9ec019c6-2464-4f4c-8c91-88bc89f649bb",
   "metadata": {},
   "outputs": [],
   "source": [
    "import pandas as pd\n",
    "import numpy as np\n",
    "import matplotlib.pyplot as plt\n",
    "from sklearn.preprocessing import LabelEncoder\n",
    "from sklearn.linear_model import LinearRegression\n",
    "from sklearn.metrics import r2_score,mean_absolute_error,mean_squared_error\n",
    "from sklearn.model_selection import train_test_split"
   ]
  },
  {
   "cell_type": "markdown",
   "id": "02148727-f6ee-42e0-99a9-04e10b258b71",
   "metadata": {},
   "source": [
    "loading data"
   ]
  },
  {
   "cell_type": "code",
   "execution_count": 131,
   "id": "01d0d93f-f7f3-4478-ab75-9eead3869294",
   "metadata": {},
   "outputs": [],
   "source": [
    "sdf=pd.read_csv(\"C:\\mypythonfiles\\Salary_EDA.csv\")"
   ]
  },
  {
   "cell_type": "code",
   "execution_count": 132,
   "id": "5aeef173-3c0e-4a28-b3fa-39a4b599428f",
   "metadata": {},
   "outputs": [
    {
     "data": {
      "text/html": [
       "<div>\n",
       "<style scoped>\n",
       "    .dataframe tbody tr th:only-of-type {\n",
       "        vertical-align: middle;\n",
       "    }\n",
       "\n",
       "    .dataframe tbody tr th {\n",
       "        vertical-align: top;\n",
       "    }\n",
       "\n",
       "    .dataframe thead th {\n",
       "        text-align: right;\n",
       "    }\n",
       "</style>\n",
       "<table border=\"1\" class=\"dataframe\">\n",
       "  <thead>\n",
       "    <tr style=\"text-align: right;\">\n",
       "      <th></th>\n",
       "      <th>Age</th>\n",
       "      <th>Gender</th>\n",
       "      <th>Education Level</th>\n",
       "      <th>Job Title</th>\n",
       "      <th>Years of Experience</th>\n",
       "      <th>Salary</th>\n",
       "    </tr>\n",
       "  </thead>\n",
       "  <tbody>\n",
       "    <tr>\n",
       "      <th>0</th>\n",
       "      <td>32.0</td>\n",
       "      <td>Male</td>\n",
       "      <td>Bachelor's</td>\n",
       "      <td>Software Engineer</td>\n",
       "      <td>5.0</td>\n",
       "      <td>90000.0</td>\n",
       "    </tr>\n",
       "    <tr>\n",
       "      <th>1</th>\n",
       "      <td>28.0</td>\n",
       "      <td>Female</td>\n",
       "      <td>Master's</td>\n",
       "      <td>Data Analyst</td>\n",
       "      <td>3.0</td>\n",
       "      <td>65000.0</td>\n",
       "    </tr>\n",
       "    <tr>\n",
       "      <th>2</th>\n",
       "      <td>45.0</td>\n",
       "      <td>Male</td>\n",
       "      <td>PhD</td>\n",
       "      <td>Senior Manager</td>\n",
       "      <td>15.0</td>\n",
       "      <td>150000.0</td>\n",
       "    </tr>\n",
       "    <tr>\n",
       "      <th>3</th>\n",
       "      <td>36.0</td>\n",
       "      <td>Female</td>\n",
       "      <td>Bachelor's</td>\n",
       "      <td>Sales Associate</td>\n",
       "      <td>7.0</td>\n",
       "      <td>60000.0</td>\n",
       "    </tr>\n",
       "    <tr>\n",
       "      <th>4</th>\n",
       "      <td>36.0</td>\n",
       "      <td>Female</td>\n",
       "      <td>Bachelor's</td>\n",
       "      <td>Sales Associate</td>\n",
       "      <td>7.0</td>\n",
       "      <td>60000.0</td>\n",
       "    </tr>\n",
       "  </tbody>\n",
       "</table>\n",
       "</div>"
      ],
      "text/plain": [
       "    Age  Gender Education Level          Job Title  Years of Experience  \\\n",
       "0  32.0    Male      Bachelor's  Software Engineer                  5.0   \n",
       "1  28.0  Female        Master's       Data Analyst                  3.0   \n",
       "2  45.0    Male             PhD     Senior Manager                 15.0   \n",
       "3  36.0  Female      Bachelor's    Sales Associate                  7.0   \n",
       "4  36.0  Female      Bachelor's    Sales Associate                  7.0   \n",
       "\n",
       "     Salary  \n",
       "0   90000.0  \n",
       "1   65000.0  \n",
       "2  150000.0  \n",
       "3   60000.0  \n",
       "4   60000.0  "
      ]
     },
     "execution_count": 132,
     "metadata": {},
     "output_type": "execute_result"
    }
   ],
   "source": [
    "sdf.head()"
   ]
  },
  {
   "cell_type": "markdown",
   "id": "383bdf63-c336-4c0b-bdb5-2dc95e6ec1cd",
   "metadata": {},
   "source": [
    "clean Data"
   ]
  },
  {
   "cell_type": "code",
   "execution_count": 133,
   "id": "52e50d25-a477-4cc4-92ba-f992740ba0c3",
   "metadata": {},
   "outputs": [
    {
     "data": {
      "text/plain": [
       "Age                    2\n",
       "Gender                 4\n",
       "Education Level        3\n",
       "Job Title              5\n",
       "Years of Experience    2\n",
       "Salary                 3\n",
       "dtype: int64"
      ]
     },
     "execution_count": 133,
     "metadata": {},
     "output_type": "execute_result"
    }
   ],
   "source": [
    "sdf.isnull().sum()"
   ]
  },
  {
   "cell_type": "code",
   "execution_count": 134,
   "id": "82777613-51c5-494c-af16-8a1e29a0ae08",
   "metadata": {},
   "outputs": [
    {
     "data": {
      "text/plain": [
       "Age                    0\n",
       "Gender                 0\n",
       "Education Level        0\n",
       "Job Title              0\n",
       "Years of Experience    0\n",
       "Salary                 0\n",
       "dtype: int64"
      ]
     },
     "execution_count": 134,
     "metadata": {},
     "output_type": "execute_result"
    }
   ],
   "source": [
    "sdf.dropna(inplace=True)\n",
    "sdf.isnull().sum()"
   ]
  },
  {
   "cell_type": "markdown",
   "id": "edab554d-1c75-49bc-9c4d-f817192f5ac0",
   "metadata": {},
   "source": [
    "Data preprocessing"
   ]
  },
  {
   "cell_type": "code",
   "execution_count": 135,
   "id": "3cf7bc43-9850-41b5-8df7-55aad4b76101",
   "metadata": {},
   "outputs": [
    {
     "data": {
      "text/html": [
       "<div>\n",
       "<style scoped>\n",
       "    .dataframe tbody tr th:only-of-type {\n",
       "        vertical-align: middle;\n",
       "    }\n",
       "\n",
       "    .dataframe tbody tr th {\n",
       "        vertical-align: top;\n",
       "    }\n",
       "\n",
       "    .dataframe thead th {\n",
       "        text-align: right;\n",
       "    }\n",
       "</style>\n",
       "<table border=\"1\" class=\"dataframe\">\n",
       "  <thead>\n",
       "    <tr style=\"text-align: right;\">\n",
       "      <th></th>\n",
       "      <th>Age</th>\n",
       "      <th>Gender</th>\n",
       "      <th>Education Level</th>\n",
       "      <th>Job Title</th>\n",
       "      <th>Years of Experience</th>\n",
       "      <th>Salary</th>\n",
       "      <th>gender_encoded</th>\n",
       "      <th>Education_L_encoded</th>\n",
       "    </tr>\n",
       "  </thead>\n",
       "  <tbody>\n",
       "    <tr>\n",
       "      <th>0</th>\n",
       "      <td>32.0</td>\n",
       "      <td>Male</td>\n",
       "      <td>Bachelor's</td>\n",
       "      <td>Software Engineer</td>\n",
       "      <td>5.0</td>\n",
       "      <td>90000.0</td>\n",
       "      <td>1</td>\n",
       "      <td>0</td>\n",
       "    </tr>\n",
       "    <tr>\n",
       "      <th>1</th>\n",
       "      <td>28.0</td>\n",
       "      <td>Female</td>\n",
       "      <td>Master's</td>\n",
       "      <td>Data Analyst</td>\n",
       "      <td>3.0</td>\n",
       "      <td>65000.0</td>\n",
       "      <td>0</td>\n",
       "      <td>1</td>\n",
       "    </tr>\n",
       "    <tr>\n",
       "      <th>2</th>\n",
       "      <td>45.0</td>\n",
       "      <td>Male</td>\n",
       "      <td>PhD</td>\n",
       "      <td>Senior Manager</td>\n",
       "      <td>15.0</td>\n",
       "      <td>150000.0</td>\n",
       "      <td>1</td>\n",
       "      <td>2</td>\n",
       "    </tr>\n",
       "    <tr>\n",
       "      <th>3</th>\n",
       "      <td>36.0</td>\n",
       "      <td>Female</td>\n",
       "      <td>Bachelor's</td>\n",
       "      <td>Sales Associate</td>\n",
       "      <td>7.0</td>\n",
       "      <td>60000.0</td>\n",
       "      <td>0</td>\n",
       "      <td>0</td>\n",
       "    </tr>\n",
       "    <tr>\n",
       "      <th>4</th>\n",
       "      <td>36.0</td>\n",
       "      <td>Female</td>\n",
       "      <td>Bachelor's</td>\n",
       "      <td>Sales Associate</td>\n",
       "      <td>7.0</td>\n",
       "      <td>60000.0</td>\n",
       "      <td>0</td>\n",
       "      <td>0</td>\n",
       "    </tr>\n",
       "  </tbody>\n",
       "</table>\n",
       "</div>"
      ],
      "text/plain": [
       "    Age  Gender Education Level          Job Title  Years of Experience  \\\n",
       "0  32.0    Male      Bachelor's  Software Engineer                  5.0   \n",
       "1  28.0  Female        Master's       Data Analyst                  3.0   \n",
       "2  45.0    Male             PhD     Senior Manager                 15.0   \n",
       "3  36.0  Female      Bachelor's    Sales Associate                  7.0   \n",
       "4  36.0  Female      Bachelor's    Sales Associate                  7.0   \n",
       "\n",
       "     Salary  gender_encoded  Education_L_encoded  \n",
       "0   90000.0               1                    0  \n",
       "1   65000.0               0                    1  \n",
       "2  150000.0               1                    2  \n",
       "3   60000.0               0                    0  \n",
       "4   60000.0               0                    0  "
      ]
     },
     "execution_count": 135,
     "metadata": {},
     "output_type": "execute_result"
    }
   ],
   "source": [
    "g_e=LabelEncoder()\n",
    "sdf['gender_encoded']=g_e.fit_transform(sdf['Gender'])\n",
    "e_f=LabelEncoder()\n",
    "sdf['Education_L_encoded']=e_f.fit_transform(sdf['Education Level'])\n",
    "sdf.head()"
   ]
  },
  {
   "cell_type": "markdown",
   "id": "b135964e-4215-41e8-9707-aa6d9af23009",
   "metadata": {},
   "source": [
    "split - ind,dep"
   ]
  },
  {
   "cell_type": "code",
   "execution_count": 136,
   "id": "dcd7b025-3dbf-415e-88b9-afdc840cb2e4",
   "metadata": {},
   "outputs": [],
   "source": [
    "X=sdf[['Age','gender_encoded','Education_L_encoded','Years of Experience']]\n",
    "Y=sdf['Salary']"
   ]
  },
  {
   "cell_type": "markdown",
   "id": "53392a27-59b8-497e-9844-5818b1f35d9f",
   "metadata": {},
   "source": [
    "split -train and test"
   ]
  },
  {
   "cell_type": "code",
   "execution_count": 137,
   "id": "0fb4a9cb-17b8-49e6-b7a1-56480ab1b983",
   "metadata": {},
   "outputs": [],
   "source": [
    "X_train,X_test,Y_train,Y_test=train_test_split(X,Y,test_size=0.2,random_state=42)"
   ]
  },
  {
   "cell_type": "markdown",
   "id": "288cd14e-d4fc-418a-b76e-e443c8620d76",
   "metadata": {},
   "source": [
    "create and train"
   ]
  },
  {
   "cell_type": "code",
   "execution_count": 138,
   "id": "acb59f56-5f54-4926-8095-eeb04601de9f",
   "metadata": {
    "scrolled": true
   },
   "outputs": [
    {
     "data": {
      "text/html": [
       "<style>#sk-container-id-5 {color: black;background-color: white;}#sk-container-id-5 pre{padding: 0;}#sk-container-id-5 div.sk-toggleable {background-color: white;}#sk-container-id-5 label.sk-toggleable__label {cursor: pointer;display: block;width: 100%;margin-bottom: 0;padding: 0.3em;box-sizing: border-box;text-align: center;}#sk-container-id-5 label.sk-toggleable__label-arrow:before {content: \"▸\";float: left;margin-right: 0.25em;color: #696969;}#sk-container-id-5 label.sk-toggleable__label-arrow:hover:before {color: black;}#sk-container-id-5 div.sk-estimator:hover label.sk-toggleable__label-arrow:before {color: black;}#sk-container-id-5 div.sk-toggleable__content {max-height: 0;max-width: 0;overflow: hidden;text-align: left;background-color: #f0f8ff;}#sk-container-id-5 div.sk-toggleable__content pre {margin: 0.2em;color: black;border-radius: 0.25em;background-color: #f0f8ff;}#sk-container-id-5 input.sk-toggleable__control:checked~div.sk-toggleable__content {max-height: 200px;max-width: 100%;overflow: auto;}#sk-container-id-5 input.sk-toggleable__control:checked~label.sk-toggleable__label-arrow:before {content: \"▾\";}#sk-container-id-5 div.sk-estimator input.sk-toggleable__control:checked~label.sk-toggleable__label {background-color: #d4ebff;}#sk-container-id-5 div.sk-label input.sk-toggleable__control:checked~label.sk-toggleable__label {background-color: #d4ebff;}#sk-container-id-5 input.sk-hidden--visually {border: 0;clip: rect(1px 1px 1px 1px);clip: rect(1px, 1px, 1px, 1px);height: 1px;margin: -1px;overflow: hidden;padding: 0;position: absolute;width: 1px;}#sk-container-id-5 div.sk-estimator {font-family: monospace;background-color: #f0f8ff;border: 1px dotted black;border-radius: 0.25em;box-sizing: border-box;margin-bottom: 0.5em;}#sk-container-id-5 div.sk-estimator:hover {background-color: #d4ebff;}#sk-container-id-5 div.sk-parallel-item::after {content: \"\";width: 100%;border-bottom: 1px solid gray;flex-grow: 1;}#sk-container-id-5 div.sk-label:hover label.sk-toggleable__label {background-color: #d4ebff;}#sk-container-id-5 div.sk-serial::before {content: \"\";position: absolute;border-left: 1px solid gray;box-sizing: border-box;top: 0;bottom: 0;left: 50%;z-index: 0;}#sk-container-id-5 div.sk-serial {display: flex;flex-direction: column;align-items: center;background-color: white;padding-right: 0.2em;padding-left: 0.2em;position: relative;}#sk-container-id-5 div.sk-item {position: relative;z-index: 1;}#sk-container-id-5 div.sk-parallel {display: flex;align-items: stretch;justify-content: center;background-color: white;position: relative;}#sk-container-id-5 div.sk-item::before, #sk-container-id-5 div.sk-parallel-item::before {content: \"\";position: absolute;border-left: 1px solid gray;box-sizing: border-box;top: 0;bottom: 0;left: 50%;z-index: -1;}#sk-container-id-5 div.sk-parallel-item {display: flex;flex-direction: column;z-index: 1;position: relative;background-color: white;}#sk-container-id-5 div.sk-parallel-item:first-child::after {align-self: flex-end;width: 50%;}#sk-container-id-5 div.sk-parallel-item:last-child::after {align-self: flex-start;width: 50%;}#sk-container-id-5 div.sk-parallel-item:only-child::after {width: 0;}#sk-container-id-5 div.sk-dashed-wrapped {border: 1px dashed gray;margin: 0 0.4em 0.5em 0.4em;box-sizing: border-box;padding-bottom: 0.4em;background-color: white;}#sk-container-id-5 div.sk-label label {font-family: monospace;font-weight: bold;display: inline-block;line-height: 1.2em;}#sk-container-id-5 div.sk-label-container {text-align: center;}#sk-container-id-5 div.sk-container {/* jupyter's `normalize.less` sets `[hidden] { display: none; }` but bootstrap.min.css set `[hidden] { display: none !important; }` so we also need the `!important` here to be able to override the default hidden behavior on the sphinx rendered scikit-learn.org. See: https://github.com/scikit-learn/scikit-learn/issues/21755 */display: inline-block !important;position: relative;}#sk-container-id-5 div.sk-text-repr-fallback {display: none;}</style><div id=\"sk-container-id-5\" class=\"sk-top-container\"><div class=\"sk-text-repr-fallback\"><pre>LinearRegression()</pre><b>In a Jupyter environment, please rerun this cell to show the HTML representation or trust the notebook. <br />On GitHub, the HTML representation is unable to render, please try loading this page with nbviewer.org.</b></div><div class=\"sk-container\" hidden><div class=\"sk-item\"><div class=\"sk-estimator sk-toggleable\"><input class=\"sk-toggleable__control sk-hidden--visually\" id=\"sk-estimator-id-5\" type=\"checkbox\" checked><label for=\"sk-estimator-id-5\" class=\"sk-toggleable__label sk-toggleable__label-arrow\">LinearRegression</label><div class=\"sk-toggleable__content\"><pre>LinearRegression()</pre></div></div></div></div></div>"
      ],
      "text/plain": [
       "LinearRegression()"
      ]
     },
     "execution_count": 138,
     "metadata": {},
     "output_type": "execute_result"
    }
   ],
   "source": [
    "sal_model=LinearRegression()\n",
    "sal_model.fit(X_train,Y_train)"
   ]
  },
  {
   "cell_type": "markdown",
   "id": "6aff1f3f-fe86-4a57-a57a-48b183678079",
   "metadata": {},
   "source": [
    "test"
   ]
  },
  {
   "cell_type": "code",
   "execution_count": 139,
   "id": "049d8d6b-d8ca-4505-8e21-b332965ea480",
   "metadata": {},
   "outputs": [
    {
     "name": "stdin",
     "output_type": "stream",
     "text": [
      "Enter your age: 34\n",
      "Enter your Gender: Male\n",
      "Enter your Education level: PhD\n",
      "Enter your year of Experience: 4\n"
     ]
    }
   ],
   "source": [
    "a=float(input(\"Enter your age:\"))\n",
    "g_user=input(\"Enter your Gender:\")\n",
    "ed_user=input(\"Enter your Education level:\")\n",
    "exp=float(input(\"Enter your year of Experience:\"))"
   ]
  },
  {
   "cell_type": "code",
   "execution_count": 150,
   "id": "d5b64b34-f705-4d79-8884-adec9fee1aba",
   "metadata": {},
   "outputs": [
    {
     "name": "stdout",
     "output_type": "stream",
     "text": [
      "1 2\n"
     ]
    }
   ],
   "source": [
    "gen_enc=g_e.transform([g_user])[0]\n",
    "edu_enc=e_f.transform([ed_user])[0]\n",
    "print(gen_enc,edu_enc)"
   ]
  },
  {
   "cell_type": "code",
   "execution_count": 141,
   "id": "eaef78a6-52dd-43d2-98ce-bb79c392e59e",
   "metadata": {},
   "outputs": [
    {
     "name": "stdout",
     "output_type": "stream",
     "text": [
      "the predict salary is :  94747.06303601456\n"
     ]
    },
    {
     "name": "stderr",
     "output_type": "stream",
     "text": [
      "C:\\Users\\DELL\\anaconda3\\Lib\\site-packages\\sklearn\\base.py:439: UserWarning: X does not have valid feature names, but LinearRegression was fitted with feature names\n",
      "  warnings.warn(\n"
     ]
    }
   ],
   "source": [
    "result=sal_model.predict([[a,gen_enc,edu_enc,exp]])\n",
    "print(\"the predict salary is : \",result[0])"
   ]
  },
  {
   "cell_type": "markdown",
   "id": "01117328-1279-46ff-8e82-9752565e9d3d",
   "metadata": {},
   "source": [
    "Evaluation:\n",
    "- Predict test values\n",
    "- visualize\n",
    "- metrics"
   ]
  },
  {
   "cell_type": "code",
   "execution_count": 142,
   "id": "fb224064-6ffa-4bf5-8717-887e098cecdd",
   "metadata": {},
   "outputs": [],
   "source": [
    "model_predictions=sal_model.predict(X_test)"
   ]
  },
  {
   "cell_type": "code",
   "execution_count": 143,
   "id": "a82315a0-ac2c-4e2b-b4d6-3b33f72689f3",
   "metadata": {},
   "outputs": [
    {
     "data": {
      "text/plain": [
       "74"
      ]
     },
     "execution_count": 143,
     "metadata": {},
     "output_type": "execute_result"
    }
   ],
   "source": [
    "len(Y_test)"
   ]
  },
  {
   "cell_type": "code",
   "execution_count": 144,
   "id": "5365ae36-78dd-46b3-a807-7a76391eb661",
   "metadata": {},
   "outputs": [
    {
     "data": {
      "image/png": "[encoded data removed]",
      "text/plain": [
       "<Figure size 640x480 with 1 Axes>"
      ]
     },
     "metadata": {},
     "output_type": "display_data"
    }
   ],
   "source": [
    "plt.plot(np.arange(1,75),Y_test,color='k',label=\"Original\")\n",
    "plt.plot(np.arange(1,75),model_predictions,color='hotpink',label=\"Model\")\n",
    "plt.title('Orignal V/S Model')\n",
    "plt.legend()\n",
    "plt.show()\n"
   ]
  },
  {
   "cell_type": "markdown",
   "id": "03e0ed7a-c085-4a1c-8253-13d359e24e80",
   "metadata": {},
   "source": [
    "Evalution"
   ]
  },
  {
   "cell_type": "code",
   "execution_count": 146,
   "id": "9a1c9136-5d9f-4c7b-b3b1-2098d9d01d34",
   "metadata": {},
   "outputs": [
    {
     "name": "stdout",
     "output_type": "stream",
     "text": [
      "0.908465830252362\n",
      "Model is Good fit\n"
     ]
    }
   ],
   "source": [
    "r2score=r2_score(Y_test,model_predictions)\n",
    "print(r2score)\n",
    "if r2score>0.5:\n",
    "    print(\"Model is Good fit\")\n",
    "else:\n",
    "    print(\"Model is not Good fit\")"
   ]
  },
  {
   "cell_type": "code",
   "execution_count": 147,
   "id": "cadfa321-b578-4cf0-bf6c-c4177b5f2e9c",
   "metadata": {},
   "outputs": [
    {
     "name": "stdout",
     "output_type": "stream",
     "text": [
      "235720545.72027326\n"
     ]
    }
   ],
   "source": [
    "mse=mean_squared_error(Y_test,model_predictions)\n",
    "print(mse)"
   ]
  },
  {
   "cell_type": "code",
   "execution_count": 149,
   "id": "cfd5c36b-9e34-45ce-857c-39b1d6a0a002",
   "metadata": {},
   "outputs": [
    {
     "name": "stdout",
     "output_type": "stream",
     "text": [
      "11362.212304880708\n"
     ]
    }
   ],
   "source": [
    "mae=mean_absolute_error(Y_test,model_predictions)\n",
    "print(mae)"
   ]
  },
  {
   "cell_type": "code",
   "execution_count": null,
   "id": "37743fa7-14fb-46b4-89c2-910d7dac4d5b",
   "metadata": {},
   "outputs": [],
   "source": []
  }
 ],
 "metadata": {
  "kernelspec": {
   "display_name": "Python 3 (ipykernel)",
   "language": "python",
   "name": "python3"
  },
  "language_info": {
   "codemirror_mode": {
    "name": "ipython",
    "version": 3
   },
   "file_extension": ".py",
   "mimetype": "text/x-python",
   "name": "python",
   "nbconvert_exporter": "python",
   "pygments_lexer": "ipython3",
   "version": "3.11.7"
  }
 },
 "nbformat": 4,
 "nbformat_minor": 5
}
