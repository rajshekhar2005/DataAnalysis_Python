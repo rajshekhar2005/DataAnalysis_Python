{
 "cells": [
  {
   "cell_type": "code",
   "execution_count": 1,
   "id": "f44d2fe2-691e-4557-a61e-5501d21d557c",
   "metadata": {},
   "outputs": [
    {
     "name": "stdout",
     "output_type": "stream",
     "text": [
      "<class 'int'>\n"
     ]
    }
   ],
   "source": [
    "a=10\n",
    "print(type(a))\n"
   ]
  },
  {
   "cell_type": "code",
   "execution_count": 2,
   "id": "4d9b67dc-f0cf-4f53-860d-517a58f0fb96",
   "metadata": {},
   "outputs": [
    {
     "name": "stdout",
     "output_type": "stream",
     "text": [
      "True\n"
     ]
    }
   ],
   "source": [
    "lst1=[90,85,89,71]\n",
    "print(90 in lst1)"
   ]
  },
  {
   "cell_type": "markdown",
   "id": "9f263233-e15a-488a-a5ba-b4720824191d",
   "metadata": {},
   "source": [
    "functions\n"
   ]
  },
  {
   "cell_type": "code",
   "execution_count": 3,
   "id": "0fa607b6-97c0-4c91-8abb-6d9189ba7baf",
   "metadata": {},
   "outputs": [],
   "source": [
    "def addition(a,b):\n",
    "    return a+b"
   ]
  },
  {
   "cell_type": "code",
   "execution_count": 4,
   "id": "0ebd7834-537d-42a0-9d7f-b8f048465fff",
   "metadata": {},
   "outputs": [
    {
     "data": {
      "text/plain": [
       "134"
      ]
     },
     "execution_count": 4,
     "metadata": {},
     "output_type": "execute_result"
    }
   ],
   "source": [
    "addition(56,78)"
   ]
  },
  {
   "cell_type": "code",
   "execution_count": 5,
   "id": "64ac0961-918c-4e0a-9965-c61ef29d4701",
   "metadata": {},
   "outputs": [],
   "source": [
    "def taxcal(S,T):\n",
    "    Tax=((T/100)*S)\n",
    "    return Tax\n",
    "    "
   ]
  },
  {
   "cell_type": "code",
   "execution_count": 6,
   "id": "cf00d5dd-7a46-499c-a55c-9bcef3a9b163",
   "metadata": {},
   "outputs": [
    {
     "data": {
      "text/plain": [
       "150.0"
      ]
     },
     "execution_count": 6,
     "metadata": {},
     "output_type": "execute_result"
    }
   ],
   "source": [
    "taxcal(3000,5)"
   ]
  },
  {
   "cell_type": "code",
   "execution_count": 12,
   "id": "00b493b9-3bb4-4809-8388-9a409de5e489",
   "metadata": {},
   "outputs": [],
   "source": [
    "def tax(sal):\n",
    "    if sal>0 and sal<10000:\n",
    "        return 0.05*sal\n",
    "    elif sal>=10000 and sal<50000:\n",
    "        return 0.1*sal\n",
    "    elif sal>=50000 and sal<200000:\n",
    "        return 0.15*sal\n",
    "    elif sal>=200000:\n",
    "        return 0.2*sal\n",
    "    else:\n",
    "        print(\"enter valid salary\")\n",
    "\n",
    "\n",
    "        \n",
    "    \n",
    "    \n",
    "\n"
   ]
  },
  {
   "cell_type": "code",
   "execution_count": 15,
   "id": "655da5e6-20bf-46a4-81a5-6189e2fe8d77",
   "metadata": {},
   "outputs": [
    {
     "data": {
      "text/plain": [
       "40000.0"
      ]
     },
     "execution_count": 15,
     "metadata": {},
     "output_type": "execute_result"
    }
   ],
   "source": [
    "tax(200000)"
   ]
  },
  {
   "cell_type": "code",
   "execution_count": 16,
   "id": "f5c7cd62-49f4-4155-8468-0f7e3595894b",
   "metadata": {},
   "outputs": [
    {
     "name": "stdout",
     "output_type": "stream",
     "text": [
      "enter valid salary\n"
     ]
    }
   ],
   "source": [
    "tax(-90)"
   ]
  },
  {
   "cell_type": "code",
   "execution_count": 17,
   "id": "aa037c1f-cd33-4444-b963-ebdce17cce70",
   "metadata": {},
   "outputs": [
    {
     "data": {
      "text/plain": [
       "1000.0"
      ]
     },
     "execution_count": 17,
     "metadata": {},
     "output_type": "execute_result"
    }
   ],
   "source": [
    "tax(10000)"
   ]
  },
  {
   "cell_type": "markdown",
   "id": "79295994-3c97-4366-bdd1-b5b98ab15c08",
   "metadata": {},
   "source": [
    "w=[67,45,23,50]\n",
    "h=[160,127,140,187]\n",
    "output:bmi=w/h^2\n"
   ]
  },
  {
   "cell_type": "code",
   "execution_count": 21,
   "id": "a6c22615-ed8c-44d3-b1d7-1d4982c85a07",
   "metadata": {},
   "outputs": [
    {
     "name": "stdout",
     "output_type": "stream",
     "text": [
      "26.171874999999996\n",
      "27.900055800111602\n",
      "11.734693877551022\n",
      "14.298378563870855\n"
     ]
    }
   ],
   "source": [
    "w=[67,45,23,50]\n",
    "h=[1.60,1.27,1.40,1.87]\n",
    "for i,j in zip(w,h):\n",
    "    print(i /(j*j))"
   ]
  },
  {
   "cell_type": "code",
   "execution_count": 22,
   "id": "8b6c11db-a651-473c-a58b-f1efe706e8f7",
   "metadata": {},
   "outputs": [
    {
     "name": "stdout",
     "output_type": "stream",
     "text": [
      "26.171874999999996\n",
      "27.900055800111602\n",
      "11.734693877551022\n",
      "14.298378563870855\n"
     ]
    }
   ],
   "source": [
    "for i in range(len(w)):\n",
    "    print(w[i] / (h[i]*h[i]))"
   ]
  },
  {
   "cell_type": "markdown",
   "id": "432e96a0-3db8-4110-909c-5ff8f16d8221",
   "metadata": {},
   "source": [
    "numpy"
   ]
  },
  {
   "cell_type": "code",
   "execution_count": 23,
   "id": "b9947dbc-b026-44a3-963a-21e8accce674",
   "metadata": {},
   "outputs": [
    {
     "name": "stdout",
     "output_type": "stream",
     "text": [
      "[90, 56, 12, 34, 78, 45, 55, 67]\n"
     ]
    }
   ],
   "source": [
    "lst1=[90,56,12,34]\n",
    "lst2=[78,45,55,67]\n",
    "print(lst1+lst2)"
   ]
  },
  {
   "cell_type": "code",
   "execution_count": 27,
   "id": "1d12b66e-a751-4e49-9b3b-463f0eca5c26",
   "metadata": {},
   "outputs": [
    {
     "name": "stdout",
     "output_type": "stream",
     "text": [
      "[168 101  67 101]\n"
     ]
    }
   ],
   "source": [
    "import numpy as np\n",
    "arr1=np.array([90,56,12,34])\n",
    "arr2=np.array([78,45,55,67])\n",
    "print(arr1+arr2)"
   ]
  },
  {
   "cell_type": "code",
   "execution_count": 28,
   "id": "6d117041-ea0c-482d-b187-351a6786378a",
   "metadata": {},
   "outputs": [
    {
     "name": "stdout",
     "output_type": "stream",
     "text": [
      "[[0. 0. 0.]\n",
      " [0. 0. 0.]]\n"
     ]
    }
   ],
   "source": [
    "arr1=np.zeros((2,3))\n",
    "print(arr1)"
   ]
  },
  {
   "cell_type": "code",
   "execution_count": 29,
   "id": "9754a6fc-db5e-4f5c-9b6f-0ed9da223a84",
   "metadata": {},
   "outputs": [
    {
     "name": "stdout",
     "output_type": "stream",
     "text": [
      "[[1. 1. 1.]\n",
      " [1. 1. 1.]]\n"
     ]
    }
   ],
   "source": [
    "arr2=np.ones((2,3))\n",
    "print(arr2)"
   ]
  },
  {
   "cell_type": "code",
   "execution_count": 31,
   "id": "33f38527-4f8c-4e19-8f5d-19f8cfdb5b48",
   "metadata": {},
   "outputs": [
    {
     "name": "stdout",
     "output_type": "stream",
     "text": [
      "[[1. 0. 0.]\n",
      " [0. 1. 0.]\n",
      " [0. 0. 1.]]\n"
     ]
    }
   ],
   "source": [
    "arr3=np.eye(3)\n",
    "print(arr3)"
   ]
  },
  {
   "cell_type": "code",
   "execution_count": 33,
   "id": "1e926695-104d-464f-929a-b7fc688de546",
   "metadata": {},
   "outputs": [
    {
     "name": "stdout",
     "output_type": "stream",
     "text": [
      "[[3 5 7]\n",
      " [9 6 1]]\n",
      "2\n",
      "(2, 3)\n"
     ]
    }
   ],
   "source": [
    "arr4=np.array([[3,5,7], [9,6,1]])\n",
    "print(arr4)\n",
    "print(np.ndim(arr4))\n",
    "print(np.shape(arr4))\n"
   ]
  },
  {
   "cell_type": "code",
   "execution_count": 35,
   "id": "4fcc2aae-1785-42d8-b51a-ba75bad21cb2",
   "metadata": {},
   "outputs": [],
   "source": [
    "arr5=np.array([4,5,6,7,8,1,3,6])\n"
   ]
  },
  {
   "cell_type": "code",
   "execution_count": 38,
   "id": "5072b684-c0e6-4545-a9c4-7ed4c018c185",
   "metadata": {},
   "outputs": [],
   "source": [
    "arr5=arr5.reshape(4,2)"
   ]
  },
  {
   "cell_type": "code",
   "execution_count": 39,
   "id": "fac725b5-010d-494d-b1b4-921d4784aa18",
   "metadata": {},
   "outputs": [
    {
     "data": {
      "text/plain": [
       "array([[4, 5],\n",
       "       [6, 7],\n",
       "       [8, 1],\n",
       "       [3, 6]])"
      ]
     },
     "execution_count": 39,
     "metadata": {},
     "output_type": "execute_result"
    }
   ],
   "source": [
    "arr5"
   ]
  },
  {
   "cell_type": "code",
   "execution_count": 40,
   "id": "137ad9aa-e16b-4932-90ff-6a5770cd9424",
   "metadata": {},
   "outputs": [],
   "source": [
    "arr6=np.array([4,5,8,9,7,8,1,3])\n",
    "\n"
   ]
  },
  {
   "cell_type": "code",
   "execution_count": 43,
   "id": "38e18d82-89eb-43f1-8786-1f1903f6d6c5",
   "metadata": {},
   "outputs": [],
   "source": [
    "arr6.resize(4,2)"
   ]
  },
  {
   "cell_type": "code",
   "execution_count": 46,
   "id": "480cdab8-837e-4186-9ad6-ab4e846f8275",
   "metadata": {},
   "outputs": [
    {
     "data": {
      "text/plain": [
       "array([[4, 5],\n",
       "       [8, 9],\n",
       "       [7, 8],\n",
       "       [1, 3]])"
      ]
     },
     "execution_count": 46,
     "metadata": {},
     "output_type": "execute_result"
    }
   ],
   "source": [
    "arr6"
   ]
  },
  {
   "cell_type": "code",
   "execution_count": 47,
   "id": "0f9a9b93-922b-43ca-8680-a5d1c725da41",
   "metadata": {},
   "outputs": [
    {
     "name": "stdout",
     "output_type": "stream",
     "text": [
      "[[10 11 12 13 14]\n",
      " [15 16 17 18 19]\n",
      " [20 21 22 23 24]\n",
      " [25 26 27 28 29]\n",
      " [30 31 32 33 34]\n",
      " [35 36 37 38 39]\n",
      " [40 41 42 43 44]\n",
      " [45 46 47 48 49]]\n",
      "(8, 5)\n"
     ]
    }
   ],
   "source": [
    "arr6=np.arange(10,50).reshape(8,5)\n",
    "print(arr6)\n",
    "print(np.shape(arr6))"
   ]
  },
  {
   "cell_type": "code",
   "execution_count": 48,
   "id": "a0cfb5e0-9545-4adb-a5ab-6ad00c444e74",
   "metadata": {},
   "outputs": [
    {
     "name": "stdout",
     "output_type": "stream",
     "text": [
      "[   8   16   24   32   40   48   56   64   72   80   88   96  104  112\n",
      "  120  128  136  144  152  160  168  176  184  192  200  208  216  224\n",
      "  232  240  248  256  264  272  280  288  296  304  312  320  328  336\n",
      "  344  352  360  368  376  384  392  400  408  416  424  432  440  448\n",
      "  456  464  472  480  488  496  504  512  520  528  536  544  552  560\n",
      "  568  576  584  592  600  608  616  624  632  640  648  656  664  672\n",
      "  680  688  696  704  712  720  728  736  744  752  760  768  776  784\n",
      "  792  800  808  816  824  832  840  848  856  864  872  880  888  896\n",
      "  904  912  920  928  936  944  952  960  968  976  984  992 1000]\n"
     ]
    }
   ],
   "source": [
    "arr7=np.arange(8,1001,8) #start,stop,step\n",
    "print(arr7)\n"
   ]
  },
  {
   "cell_type": "code",
   "execution_count": 49,
   "id": "403a1673-24ee-4518-b1c0-619a6d5b9140",
   "metadata": {},
   "outputs": [
    {
     "name": "stdout",
     "output_type": "stream",
     "text": [
      "[  7  14  21  28  35  42  49  56  63  70  77  84  91  98 105 112 119 126\n",
      " 133 140 147 154 161 168 175 182 189 196 203 210 217 224 231 238 245 252\n",
      " 259 266 273 280 287 294 301 308 315 322 329 336 343 350 357 364 371 378\n",
      " 385 392 399 406 413 420 427 434 441 448 455 462 469 476 483 490 497 504\n",
      " 511 518 525 532 539 546 553 560 567 574 581 588 595 602 609 616 623 630\n",
      " 637 644 651 658 665 672 679 686 693 700]\n"
     ]
    }
   ],
   "source": [
    "multiple_seven=np.arange(7,701,7) #start,stop,step\n",
    "print(multiple_seven)\n"
   ]
  },
  {
   "cell_type": "code",
   "execution_count": 50,
   "id": "d2629fcc-f2eb-4248-91d2-5a86284f3392",
   "metadata": {},
   "outputs": [
    {
     "name": "stdout",
     "output_type": "stream",
     "text": [
      "[[[1 2 3]\n",
      "  [4 5 6]]\n",
      "\n",
      " [[4 5 2]\n",
      "  [3 6 0]]]\n",
      "(2, 2, 3)\n",
      "3\n"
     ]
    }
   ],
   "source": [
    "arr10=np.array ( [ [[1,2,3], [4,5,6]],[[4,5,2],[3,6,0]] ] )\n",
    "print(arr10)\n",
    "print(np.shape(arr10)) #group, row, column\n",
    "print(np.ndim(arr10))"
   ]
  },
  {
   "cell_type": "code",
   "execution_count": 51,
   "id": "22500c31-231d-4634-b76e-40fb07f6897b",
   "metadata": {},
   "outputs": [
    {
     "name": "stdout",
     "output_type": "stream",
     "text": [
      "[2.  3.2 4.4 5.6 6.8 8. ]\n"
     ]
    }
   ],
   "source": [
    "arr9=np.linspace(2,8,6) # generate 6 evenly numbers 2,$,$,$,$,8\n",
    "print(arr9)"
   ]
  },
  {
   "cell_type": "markdown",
   "id": "50d55562-fc08-4d16-a891-8907b3805d3f",
   "metadata": {},
   "source": [
    "matrix operations"
   ]
  },
  {
   "cell_type": "code",
   "execution_count": 55,
   "id": "4bc40357-fad0-4b4b-b2dc-4bb283ad2054",
   "metadata": {},
   "outputs": [
    {
     "name": "stdout",
     "output_type": "stream",
     "text": [
      "Matrix 1: [[9 4]\n",
      " [6 7]]\n",
      "Matrix 2: [[1 2]\n",
      " [3 4]]\n"
     ]
    }
   ],
   "source": [
    "mat1=np.array([9,4,6,7]).reshape(2,2)\n",
    "mat2=np.array([1,2,3,4]).reshape(2,2)\n",
    "print(\"Matrix 1:\", mat1)\n",
    "print(\"Matrix 2:\", mat2)"
   ]
  },
  {
   "cell_type": "code",
   "execution_count": 56,
   "id": "85998389-a784-4890-bd9a-ac196b7ca77c",
   "metadata": {},
   "outputs": [
    {
     "name": "stdout",
     "output_type": "stream",
     "text": [
      "[[ 9  8]\n",
      " [18 28]]\n"
     ]
    }
   ],
   "source": [
    "print(mat1*mat2)"
   ]
  },
  {
   "cell_type": "code",
   "execution_count": 57,
   "id": "190e2cff-44e1-476a-b2d4-f70037afe7e9",
   "metadata": {},
   "outputs": [
    {
     "name": "stdout",
     "output_type": "stream",
     "text": [
      "[[21 34]\n",
      " [27 40]]\n"
     ]
    }
   ],
   "source": [
    "print(mat1.dot(mat2))"
   ]
  },
  {
   "cell_type": "code",
   "execution_count": 58,
   "id": "320b541d-130f-4d34-b1ee-b316ddaa2d5c",
   "metadata": {},
   "outputs": [
    {
     "name": "stdout",
     "output_type": "stream",
     "text": [
      "[[21 34]\n",
      " [27 40]]\n"
     ]
    }
   ],
   "source": [
    "print(mat1@mat2)"
   ]
  },
  {
   "cell_type": "code",
   "execution_count": 59,
   "id": "58c14e5d-10ca-424e-ab14-5b33a914cb7e",
   "metadata": {},
   "outputs": [
    {
     "name": "stdout",
     "output_type": "stream",
     "text": [
      "[[ 0.17948718 -0.1025641 ]\n",
      " [-0.15384615  0.23076923]]\n"
     ]
    }
   ],
   "source": [
    "print(np.linalg.inv(mat1))"
   ]
  },
  {
   "cell_type": "markdown",
   "id": "ab4f41bd-e465-40ae-9042-b478f3349378",
   "metadata": {},
   "source": [
    "statstics"
   ]
  },
  {
   "cell_type": "code",
   "execution_count": 60,
   "id": "e9f3dd66-daef-4840-9ed1-d38d90714857",
   "metadata": {},
   "outputs": [
    {
     "name": "stdout",
     "output_type": "stream",
     "text": [
      "36.666666666666664\n"
     ]
    }
   ],
   "source": [
    "ar1=np.array([90,45,34,16,23,12])\n",
    "print(np.mean(ar1))"
   ]
  },
  {
   "cell_type": "code",
   "execution_count": 61,
   "id": "b02d5300-1a35-4a5b-a716-93e7e71fc865",
   "metadata": {},
   "outputs": [
    {
     "name": "stdout",
     "output_type": "stream",
     "text": [
      "28.5\n"
     ]
    }
   ],
   "source": [
    "print(np.median(ar1)) # 12,16,23,34,45,90"
   ]
  },
  {
   "cell_type": "code",
   "execution_count": 62,
   "id": "627c7d4c-595d-4d7d-a866-2fcb0649dfab",
   "metadata": {},
   "outputs": [
    {
     "name": "stdout",
     "output_type": "stream",
     "text": [
      "26.278423764669668\n"
     ]
    }
   ],
   "source": [
    "print(np.std(ar1)) #standard deviation"
   ]
  },
  {
   "cell_type": "code",
   "execution_count": 63,
   "id": "fa25a6c9-e8d6-4110-be1f-5bed9f71dfe6",
   "metadata": {},
   "outputs": [
    {
     "name": "stdout",
     "output_type": "stream",
     "text": [
      "690.5555555555557\n"
     ]
    }
   ],
   "source": [
    "print(np.var(ar1))  #variance"
   ]
  },
  {
   "cell_type": "markdown",
   "id": "67b4fce2-18ba-402c-89f2-193172a5099a",
   "metadata": {},
   "source": [
    "trignometry"
   ]
  },
  {
   "cell_type": "code",
   "execution_count": 64,
   "id": "4f39bfde-122b-4e84-80eb-5d09250ae854",
   "metadata": {},
   "outputs": [
    {
     "name": "stdout",
     "output_type": "stream",
     "text": [
      "3.141592653589793\n"
     ]
    }
   ],
   "source": [
    "print(np.pi)"
   ]
  },
  {
   "cell_type": "code",
   "execution_count": 66,
   "id": "33da74a4-a01a-45e6-a29c-23e05d99fb4f",
   "metadata": {},
   "outputs": [
    {
     "name": "stdout",
     "output_type": "stream",
     "text": [
      "0.8939966636005579\n",
      "-0.9880316240928618\n",
      "0.8509035245341184\n"
     ]
    }
   ],
   "source": [
    "rad=[90,30,45]\n",
    "for i in rad:\n",
    "    print(np.sin(i))"
   ]
  },
  {
   "cell_type": "code",
   "execution_count": 67,
   "id": "45458c3a-cadf-4571-b904-52b081f2cd49",
   "metadata": {},
   "outputs": [
    {
     "name": "stdout",
     "output_type": "stream",
     "text": [
      "-0.4480736161291701\n",
      "0.15425144988758405\n",
      "0.5253219888177297\n"
     ]
    }
   ],
   "source": [
    "rad=[90,30,45]\n",
    "for i in rad:\n",
    "    print(np.cos(i))"
   ]
  },
  {
   "cell_type": "code",
   "execution_count": 68,
   "id": "a6c73d96-fd86-4e88-906f-9ba589b31331",
   "metadata": {},
   "outputs": [
    {
     "name": "stdout",
     "output_type": "stream",
     "text": [
      "-1.995200412208242\n",
      "-6.405331196646276\n",
      "1.6197751905438615\n"
     ]
    }
   ],
   "source": [
    "rad=[90,30,45]\n",
    "for i in rad:\n",
    "    print(np.tan(i))"
   ]
  },
  {
   "cell_type": "code",
   "execution_count": 70,
   "id": "846b81be-6b8b-4c36-9f79-cd28912ec174",
   "metadata": {},
   "outputs": [
    {
     "name": "stdout",
     "output_type": "stream",
     "text": [
      "0.7071067811865476\n",
      "1.0\n",
      "0.8660254037844386\n"
     ]
    }
   ],
   "source": [
    "deg=[np.pi/4,np.pi/2,np.pi/3]\n",
    "for i in deg:\n",
    "    print(np.sin(i))"
   ]
  },
  {
   "cell_type": "markdown",
   "id": "611227cc-48c6-49a3-abc5-6d4464dbc100",
   "metadata": {},
   "source": [
    "airthematic operation"
   ]
  },
  {
   "cell_type": "code",
   "execution_count": 71,
   "id": "e8a7aadc-ef78-4841-b77b-fa7b6f373f21",
   "metadata": {},
   "outputs": [
    {
     "name": "stdout",
     "output_type": "stream",
     "text": [
      "33\n"
     ]
    }
   ],
   "source": [
    "a=np.array([8,9,1])\n",
    "b=np.array([2,5,8])\n",
    "print(np.sum((a,b)))"
   ]
  },
  {
   "cell_type": "code",
   "execution_count": 72,
   "id": "0bbe4bec-8d92-43c0-9707-e7420ad02d27",
   "metadata": {},
   "outputs": [
    {
     "name": "stdout",
     "output_type": "stream",
     "text": [
      "[ 8 17 18]\n"
     ]
    }
   ],
   "source": [
    "print(np.cumsum(a))"
   ]
  },
  {
   "cell_type": "code",
   "execution_count": 73,
   "id": "1c3a342d-18c7-4e3b-a704-9e82db95ea73",
   "metadata": {},
   "outputs": [
    {
     "name": "stdout",
     "output_type": "stream",
     "text": [
      "[[ 1  2  3]\n",
      " [ 7  9  6]\n",
      " [16 10 12]]\n"
     ]
    }
   ],
   "source": [
    "c = np.array([[1,2,3],[6,7,3],[9,1,6]])\n",
    "print(np.cumsum(c, axis=0)) #column"
   ]
  },
  {
   "cell_type": "code",
   "execution_count": 74,
   "id": "494b37f4-c3ed-41ba-9982-bb5fad662d27",
   "metadata": {},
   "outputs": [
    {
     "name": "stdout",
     "output_type": "stream",
     "text": [
      "[[ 1  3  6]\n",
      " [ 6 13 16]\n",
      " [ 9 10 16]]\n"
     ]
    }
   ],
   "source": [
    "print(np.cumsum(c, axis=1)) "
   ]
  },
  {
   "cell_type": "code",
   "execution_count": 75,
   "id": "4f628fb9-ac9b-48ef-8bc2-6413d0206b41",
   "metadata": {},
   "outputs": [
    {
     "name": "stdout",
     "output_type": "stream",
     "text": [
      "5760\n"
     ]
    }
   ],
   "source": [
    "print(np.prod((a,b)))"
   ]
  },
  {
   "cell_type": "code",
   "execution_count": 76,
   "id": "cca40e2a-ae05-45e0-9cb5-c9c4205d8fe6",
   "metadata": {},
   "outputs": [
    {
     "name": "stdout",
     "output_type": "stream",
     "text": [
      "[    1     2     6    36   252   756  6804  6804 40824]\n"
     ]
    }
   ],
   "source": [
    "print(np.cumprod(c))"
   ]
  },
  {
   "cell_type": "code",
   "execution_count": 77,
   "id": "5e4dbf78-780c-419f-b7e1-d702fbe65089",
   "metadata": {},
   "outputs": [
    {
     "name": "stdout",
     "output_type": "stream",
     "text": [
      "[[ 1  2  3]\n",
      " [ 6 14  9]\n",
      " [54 14 54]]\n"
     ]
    }
   ],
   "source": [
    "print(np.cumprod(c,axis=0))\n"
   ]
  },
  {
   "cell_type": "code",
   "execution_count": 78,
   "id": "2d5622b9-a56d-4b05-91bd-bd3277e1eec1",
   "metadata": {},
   "outputs": [
    {
     "name": "stdout",
     "output_type": "stream",
     "text": [
      "[[  1   2   6]\n",
      " [  6  42 126]\n",
      " [  9   9  54]]\n"
     ]
    }
   ],
   "source": [
    "print(np.cumprod(c,axis=1))"
   ]
  },
  {
   "cell_type": "code",
   "execution_count": 79,
   "id": "ed1940a5-ed88-416d-9c97-833bdc089c0b",
   "metadata": {},
   "outputs": [
    {
     "name": "stdout",
     "output_type": "stream",
     "text": [
      "[0 1 7 2]\n"
     ]
    }
   ],
   "source": [
    "s1=np.array([90,23,40,12])\n",
    "s2=np.array([10,2,11,5])\n",
    "print(np.mod(s1,s2))"
   ]
  },
  {
   "cell_type": "code",
   "execution_count": 80,
   "id": "29c7c826-0041-4c6f-9639-916020af2233",
   "metadata": {},
   "outputs": [
    {
     "name": "stdout",
     "output_type": "stream",
     "text": [
      "(array([ 9, 11,  3,  2]), array([0, 1, 7, 2]))\n"
     ]
    }
   ],
   "source": [
    "print(np.divmod(s1,s2))"
   ]
  },
  {
   "cell_type": "code",
   "execution_count": 108,
   "id": "a4d43f2c-9b55-4a18-9824-827bc7448be2",
   "metadata": {},
   "outputs": [
    {
     "name": "stdout",
     "output_type": "stream",
     "text": [
      "9.0\n"
     ]
    }
   ],
   "source": [
    "num1=81\n",
    "num2=99\n",
    "num3=78\n",
    "print(np.sqrt(num1))"
   ]
  },
  {
   "cell_type": "code",
   "execution_count": 109,
   "id": "e46f496a-c959-4b78-8dc3-beae6625c173",
   "metadata": {},
   "outputs": [
    {
     "name": "stdout",
     "output_type": "stream",
     "text": [
      "891\n"
     ]
    }
   ],
   "source": [
    "print(np.lcm(num1,num2))"
   ]
  },
  {
   "cell_type": "code",
   "execution_count": 111,
   "id": "4f9229e5-ce4e-4fad-af23-f1eb916b93c1",
   "metadata": {},
   "outputs": [
    {
     "name": "stdout",
     "output_type": "stream",
     "text": [
      "9\n"
     ]
    }
   ],
   "source": [
    "print(np.gcd(num1,num2))"
   ]
  },
  {
   "cell_type": "code",
   "execution_count": 112,
   "id": "ff582ce1-818a-4b2d-8ca1-16743fe01377",
   "metadata": {},
   "outputs": [
    {
     "name": "stdout",
     "output_type": "stream",
     "text": [
      "268335\n"
     ]
    }
   ],
   "source": [
    "aa=[45,67,89]\n",
    "print(np.lcm.reduce(aa))"
   ]
  },
  {
   "cell_type": "code",
   "execution_count": 113,
   "id": "470497bc-fd88-4a7b-b3fe-26bae09ed0a7",
   "metadata": {},
   "outputs": [
    {
     "name": "stdout",
     "output_type": "stream",
     "text": [
      "1\n"
     ]
    }
   ],
   "source": [
    "print(np.gcd.reduce(aa))"
   ]
  },
  {
   "cell_type": "code",
   "execution_count": 114,
   "id": "860269bb-2ba6-4d55-b832-1dcf4a8af113",
   "metadata": {},
   "outputs": [
    {
     "name": "stdout",
     "output_type": "stream",
     "text": [
      "[ 0  4 34  6 45]\n"
     ]
    }
   ],
   "source": [
    "ab=np.array([0,-4,34,-6,45])\n",
    "print(np.absolute(ab))"
   ]
  },
  {
   "cell_type": "markdown",
   "id": "230d76e7-e76a-4c0e-bd22-b8d8724bb33f",
   "metadata": {},
   "source": [
    "logarithms"
   ]
  },
  {
   "cell_type": "code",
   "execution_count": 115,
   "id": "e0a7a976-9fcb-4133-be84-3a8999ab63de",
   "metadata": {},
   "outputs": [
    {
     "name": "stdout",
     "output_type": "stream",
     "text": [
      "3.8066624897703196\n"
     ]
    }
   ],
   "source": [
    "n=45\n",
    "print(np.log(n))"
   ]
  },
  {
   "cell_type": "code",
   "execution_count": 116,
   "id": "8a85565b-2df3-4bdb-b2a3-3e705a62a538",
   "metadata": {},
   "outputs": [
    {
     "name": "stdout",
     "output_type": "stream",
     "text": [
      "1.6532125137753437\n"
     ]
    }
   ],
   "source": [
    "print(np.log10(n))"
   ]
  },
  {
   "cell_type": "code",
   "execution_count": 117,
   "id": "5d187117-f0c9-42ad-bad9-f80010286018",
   "metadata": {},
   "outputs": [
    {
     "name": "stdout",
     "output_type": "stream",
     "text": [
      "5.491853096329675\n"
     ]
    }
   ],
   "source": [
    "print(np.log2(n))"
   ]
  },
  {
   "cell_type": "markdown",
   "id": "b3649a56-8f0f-45d7-9422-8deea60de1b8",
   "metadata": {},
   "source": [
    "universal functions"
   ]
  },
  {
   "cell_type": "code",
   "execution_count": 81,
   "id": "291a83bb-bf81-428a-b256-34304f898cb6",
   "metadata": {},
   "outputs": [
    {
     "name": "stdout",
     "output_type": "stream",
     "text": [
      "111\n"
     ]
    }
   ],
   "source": [
    "a=np.array([56,78,12,32,111,109])\n",
    "print(max(a))"
   ]
  },
  {
   "cell_type": "code",
   "execution_count": 82,
   "id": "e390a5fd-d2f3-4b75-8437-f398b860f0e3",
   "metadata": {},
   "outputs": [
    {
     "name": "stdout",
     "output_type": "stream",
     "text": [
      "12\n"
     ]
    }
   ],
   "source": [
    "print(min(a))"
   ]
  },
  {
   "cell_type": "markdown",
   "id": "1f1fabbc-c461-436e-aed5-3cb91a03e314",
   "metadata": {},
   "source": [
    "sorting"
   ]
  },
  {
   "cell_type": "code",
   "execution_count": 83,
   "id": "c426d4dc-3c96-4abb-b61b-9c1bb2d92b2c",
   "metadata": {},
   "outputs": [
    {
     "name": "stdout",
     "output_type": "stream",
     "text": [
      "[ 1 12 45 89 90 98]\n"
     ]
    }
   ],
   "source": [
    "b=np.array([90,12,45,1,89,98])\n",
    "b.sort()\n",
    "print(b)"
   ]
  },
  {
   "cell_type": "code",
   "execution_count": 85,
   "id": "6307357e-1e90-4b00-b0d8-e0aabf9c2f72",
   "metadata": {},
   "outputs": [
    {
     "name": "stdout",
     "output_type": "stream",
     "text": [
      "[1, 12, 45, 89, 90, 98]\n",
      "[90 12 45  1 89 98]\n"
     ]
    }
   ],
   "source": [
    "c=np.array([90,12,45,1,89,98])\n",
    "d=sorted(c)\n",
    "print(d)\n",
    "print(c)"
   ]
  },
  {
   "cell_type": "markdown",
   "id": "49c44226-4493-4621-b889-8c8b6c0eff66",
   "metadata": {},
   "source": [
    "rounding"
   ]
  },
  {
   "cell_type": "code",
   "execution_count": 86,
   "id": "27269ca4-3779-4ccb-abc7-f3387f7f9288",
   "metadata": {},
   "outputs": [
    {
     "name": "stdout",
     "output_type": "stream",
     "text": [
      "[10. -7.]\n"
     ]
    }
   ],
   "source": [
    "s2=np.array([9.1,-7.8])\n",
    "print(np.ceil(s2))"
   ]
  },
  {
   "cell_type": "code",
   "execution_count": 87,
   "id": "e34c1407-df26-4b8b-94a8-0561835255c7",
   "metadata": {},
   "outputs": [
    {
     "name": "stdout",
     "output_type": "stream",
     "text": [
      "[ 9. -8.]\n"
     ]
    }
   ],
   "source": [
    "s2=np.array([9.1,-7.8])\n",
    "print(np.floor(s2))"
   ]
  },
  {
   "cell_type": "markdown",
   "id": "ab2dab27-92af-432a-9608-f2e4bea3f034",
   "metadata": {},
   "source": [
    "random module"
   ]
  },
  {
   "cell_type": "code",
   "execution_count": 90,
   "id": "1fcd7423-daa2-4278-81f1-f4d92a56a4f3",
   "metadata": {},
   "outputs": [],
   "source": [
    "import numpy.random as rd"
   ]
  },
  {
   "cell_type": "code",
   "execution_count": 92,
   "id": "e32098b9-78ea-4210-8dee-0508747f4ae3",
   "metadata": {},
   "outputs": [
    {
     "name": "stdout",
     "output_type": "stream",
     "text": [
      "[0.6675868  0.02750521]\n"
     ]
    }
   ],
   "source": [
    "ran1=rd.rand(2) #0 to 1\n",
    "print(ran1)"
   ]
  },
  {
   "cell_type": "code",
   "execution_count": 97,
   "id": "7d71dc75-270d-4b02-a7ab-e8710ddcc712",
   "metadata": {},
   "outputs": [
    {
     "name": "stdout",
     "output_type": "stream",
     "text": [
      "4\n"
     ]
    }
   ],
   "source": [
    "ran2=rd.randint(5) #0 to 1\n",
    "print(ran2)"
   ]
  },
  {
   "cell_type": "code",
   "execution_count": 98,
   "id": "cc2068ea-5166-4fd8-8a44-46dd13724b38",
   "metadata": {},
   "outputs": [
    {
     "name": "stdout",
     "output_type": "stream",
     "text": [
      "[4 4 4 0 0 2]\n"
     ]
    }
   ],
   "source": [
    "ran3=rd.randint(5, size=(6))\n",
    "print(ran3)\n"
   ]
  },
  {
   "cell_type": "code",
   "execution_count": 99,
   "id": "43936dfb-7556-4b35-a4d0-bc0677360e21",
   "metadata": {},
   "outputs": [
    {
     "name": "stdout",
     "output_type": "stream",
     "text": [
      "[[[2 4 1]\n",
      "  [2 2 3]]\n",
      "\n",
      " [[3 2 2]\n",
      "  [1 1 4]]\n",
      "\n",
      " [[3 0 3]\n",
      "  [0 1 3]]\n",
      "\n",
      " [[0 2 3]\n",
      "  [2 3 3]]\n",
      "\n",
      " [[2 3 4]\n",
      "  [1 3 1]]\n",
      "\n",
      " [[2 4 4]\n",
      "  [1 2 2]]]\n"
     ]
    }
   ],
   "source": [
    "ran4=rd.randint(5, size=(6,2,3))\n",
    "print(ran4)"
   ]
  },
  {
   "cell_type": "markdown",
   "id": "26b09d46-6da8-4ce3-a62b-86e48fdd7206",
   "metadata": {},
   "source": [
    "stack"
   ]
  },
  {
   "cell_type": "code",
   "execution_count": 100,
   "id": "7dc762d0-aea9-403b-9720-cfca06ee6c9d",
   "metadata": {},
   "outputs": [
    {
     "name": "stdout",
     "output_type": "stream",
     "text": [
      "[[1 5 6]\n",
      " [3 4 5]]\n",
      "\n",
      "\n",
      "[[ 2  7  6]\n",
      " [33  4 15]]\n"
     ]
    }
   ],
   "source": [
    "ar1=np.array([[1,5,6],[3,4,5]])\n",
    "ar2=np.array([[2,7,6],[33,4,15]])\n",
    "print(ar1)\n",
    "print(\"\\n\")\n",
    "print(ar2)"
   ]
  },
  {
   "cell_type": "code",
   "execution_count": 102,
   "id": "19f709cb-5cbe-4f6b-8e70-18366f60b4e4",
   "metadata": {},
   "outputs": [
    {
     "name": "stdout",
     "output_type": "stream",
     "text": [
      "[[ 1  5  6  2  7  6]\n",
      " [ 3  4  5 33  4 15]]\n"
     ]
    }
   ],
   "source": [
    "ar3=np.hstack((ar1,ar2)) # side by side\n",
    "print(ar3)"
   ]
  },
  {
   "cell_type": "code",
   "execution_count": 104,
   "id": "c8b4aeda-83f3-4cf1-a0c0-e7e7fa2b03a4",
   "metadata": {},
   "outputs": [
    {
     "name": "stdout",
     "output_type": "stream",
     "text": [
      "[[ 1  5  6]\n",
      " [ 3  4  5]\n",
      " [ 2  7  6]\n",
      " [33  4 15]]\n"
     ]
    }
   ],
   "source": [
    "ar4=np.vstack((ar1,ar2)) # one top of another\n",
    "print(ar4)"
   ]
  },
  {
   "cell_type": "code",
   "execution_count": 106,
   "id": "311ecbfe-6af5-4cae-8290-252e5f1a097d",
   "metadata": {},
   "outputs": [
    {
     "name": "stdout",
     "output_type": "stream",
     "text": [
      "[[[ 1  2]\n",
      "  [ 3  4]]\n",
      "\n",
      " [[ 5  6]\n",
      "  [ 7  8]]\n",
      "\n",
      " [[ 9 10]\n",
      "  [11 12]]]\n"
     ]
    }
   ],
   "source": [
    "ar5=np.arange(1,13).reshape(3,2,2)\n",
    "print(ar5)"
   ]
  },
  {
   "cell_type": "code",
   "execution_count": 107,
   "id": "a5a79c30-42b9-4dda-9665-0df2f7507d3f",
   "metadata": {},
   "outputs": [
    {
     "name": "stdout",
     "output_type": "stream",
     "text": [
      "[[[ 1  5  9]\n",
      "  [ 2  6 10]]\n",
      "\n",
      " [[ 3  7 11]\n",
      "  [ 4  8 12]]]\n"
     ]
    }
   ],
   "source": [
    "ar6=np.dstack(ar5)\n",
    "print(ar6)"
   ]
  },
  {
   "cell_type": "markdown",
   "id": "4e40d58d-e0d2-492b-8c3f-51b6bdfaecad",
   "metadata": {},
   "source": [
    "set"
   ]
  },
  {
   "cell_type": "code",
   "execution_count": 118,
   "id": "3ed7ca43-7f73-4e87-8e61-cdf142bc56f2",
   "metadata": {},
   "outputs": [
    {
     "name": "stdout",
     "output_type": "stream",
     "text": [
      "[3 5 7 8 9]\n"
     ]
    }
   ],
   "source": [
    "s1=np.array([9,3,5,7])\n",
    "s2=np.array([3,7,8,9])\n",
    "print(np.union1d(s1,s2))"
   ]
  },
  {
   "cell_type": "code",
   "execution_count": 119,
   "id": "66adab87-9bc9-48cf-a5ae-5251e010cd36",
   "metadata": {},
   "outputs": [
    {
     "name": "stdout",
     "output_type": "stream",
     "text": [
      "[3 7 9]\n"
     ]
    }
   ],
   "source": [
    "print(np.intersect1d(s1,s2))"
   ]
  },
  {
   "cell_type": "code",
   "execution_count": 120,
   "id": "fa17b22c-e0a3-4aa2-a807-1ca1c0218aa5",
   "metadata": {},
   "outputs": [
    {
     "name": "stdout",
     "output_type": "stream",
     "text": [
      "[5]\n"
     ]
    }
   ],
   "source": [
    "print(np.setdiff1d(s1,s2))"
   ]
  },
  {
   "cell_type": "markdown",
   "id": "cb1a3757-a62b-4e8f-839a-94c1e9a37b6e",
   "metadata": {},
   "source": [
    "search"
   ]
  },
  {
   "cell_type": "code",
   "execution_count": 121,
   "id": "3fb90b14-7a56-4303-88c6-36877d3b6d91",
   "metadata": {},
   "outputs": [
    {
     "name": "stdout",
     "output_type": "stream",
     "text": [
      "(array([0, 2], dtype=int64),)\n"
     ]
    }
   ],
   "source": [
    "col1=np.array([44,33,12,67,19])\n",
    "index=np.where(col1%2==0)\n",
    "print(index)"
   ]
  },
  {
   "cell_type": "code",
   "execution_count": 135,
   "id": "38274e53-a6c3-4331-8e29-9914cfe0f8f1",
   "metadata": {},
   "outputs": [
    {
     "name": "stdout",
     "output_type": "stream",
     "text": [
      "(array([0, 4, 5], dtype=int64),)\n"
     ]
    }
   ],
   "source": [
    "col2 =np.array([45,33,21,50,60,15])\n",
    "num=np.where((col2%5==0) &(col2%3==0))\n",
    "print(num)"
   ]
  },
  {
   "cell_type": "code",
   "execution_count": null,
   "id": "8b80594f-5034-4016-9c82-fbc09ef8d4ef",
   "metadata": {},
   "outputs": [],
   "source": []
  }
 ],
 "metadata": {
  "kernelspec": {
   "display_name": "Python 3 (ipykernel)",
   "language": "python",
   "name": "python3"
  },
  "language_info": {
   "codemirror_mode": {
    "name": "ipython",
    "version": 3
   },
   "file_extension": ".py",
   "mimetype": "text/x-python",
   "name": "python",
   "nbconvert_exporter": "python",
   "pygments_lexer": "ipython3",
   "version": "3.11.7"
  }
 },
 "nbformat": 4,
 "nbformat_minor": 5
}
